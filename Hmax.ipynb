{
 "cells": [
  {
   "cell_type": "code",
   "execution_count": null,
   "metadata": {},
   "outputs": [],
   "source": [
    "from Integer_EditDistance import editDistDP\n",
    "class Hmax:\n",
    "    def __init__(self):\n",
    "        self.pickle_in = open(\"Confusion.Matrix\",\"rb\")\n",
    "        self.Confusion_Matrix = pickle.load(pickle_in)\n",
    "        self.pickle_in = open(\"Deletion.vector\",\"rb\")\n",
    "        self.Deletion_vector = pickle.load(pickle_in)\n",
    "        self.pickle_in = open(\"Character_dict\",\"rb\")\n",
    "        self.char_dict = pickle.load(pickle_in)\n",
    "        self.integer_dict = dict(map(reverse,char_dict.items()))\n",
    "        self.pickle_in = open(\"Insertion.vector\",\"rb\")\n",
    "        self.Insertion_vector = pickle.load(pickle_in)\n",
    "\n",
    "        self.current_max = -1\n",
    "        self.argmax_hypothesis = \"\"\n",
    "        self.final_op_list =[]\n",
    "\n",
    "def getHmax(self,Target, Encoder_output, row, column, prob, Hypothesis):\n",
    "    #Hmax = argmax(H) P(T|H)P(H)\n",
    "    shape = Encoder_output.shape\n",
    "    if( column == shape[1]-1 ):\n",
    "        prob1 = prob*Encoder_output[row][column]\n",
    "        Hypothesis1 = Hypothesis.append(row)\n",
    "        dp,lst = editDistDP(Hypothesis1,Target,len(Hypothesis),len(Target))\n",
    "        Prob_T_given_H = 1.0\n",
    "        for operation_description in lst:\n",
    "            op = operation_description[0]\n",
    "            source_position = operation_description[1]\n",
    "            destination_position = operation_description[2]\n",
    "            \n",
    "            if(op == 'replace'):\n",
    "                Prob_T_given_H = Prob_T_given_H*Confusion_Matrix[integer_dict[Target[destination_position]]][integer_dict[Hypothesis]]\n",
    "            \n",
    "            if(op == 'insert'):\n",
    "                Prob_T_given_H = Prob_T_given_H*Insertion_vector[integer_dict[Target[destination_position]]]\n",
    "            \n",
    "            if(op == 'delete'):\n",
    "                Prob_T_given_H = Prob_T_given_H*Deletion_vector[integer_dict[Target[destination_position]]]\n",
    "    \n",
    "        Prob_H_given_T = Prob_T_given_H*prob1\n",
    "        \n",
    "        if(Prob_H_given_T > current_max):\n",
    "            current_max = Prob_H_given_T\n",
    "            argmax_hypothesis = Hypothesis\n",
    "            final_op_list = lst\n",
    "    \n",
    "    for(i=row;i<shape[0];i=i+1):\n",
    "        self.getHmax(Target,Encoder_output,i,column+1,prob*Encoder_output[i][column],Hypothesis.append(i))\n",
    "    \n",
    "    return argmax_hypothesis,final_op_list\n",
    "\n",
    "    "
   ]
  }
 ],
 "metadata": {
  "kernelspec": {
   "display_name": "Python 2",
   "language": "python",
   "name": "python2"
  },
  "language_info": {
   "codemirror_mode": {
    "name": "ipython",
    "version": 2
   },
   "file_extension": ".py",
   "mimetype": "text/x-python",
   "name": "python",
   "nbconvert_exporter": "python",
   "pygments_lexer": "ipython2",
   "version": "2.7.17"
  }
 },
 "nbformat": 4,
 "nbformat_minor": 2
}
