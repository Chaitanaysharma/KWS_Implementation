{
 "cells": [
  {
   "cell_type": "code",
   "execution_count": 8,
   "metadata": {},
   "outputs": [],
   "source": [
    "def editDistDP(str1, str2, m, n): \n",
    "     \n",
    "    dp = [[0 for x in range(n + 1)] for x in range(m + 1)] \n",
    "  \n",
    "    \n",
    "    for i in range(m + 1): \n",
    "        for j in range(n + 1): \n",
    "  \n",
    "             \n",
    "            if i == 0: \n",
    "                dp[i][j] = j    # Min. operations = j \n",
    "  \n",
    "            \n",
    "            elif j == 0: \n",
    "                dp[i][j] = i    # Min. operations = i \n",
    "  \n",
    "             \n",
    "            elif str1[i-1] == str2[j-1]: \n",
    "                dp[i][j] = dp[i-1][j-1] \n",
    "  \n",
    "             \n",
    "            else: \n",
    "                dp[i][j] = 1 + min(dp[i][j-1],        # Insert \n",
    "                                   dp[i-1][j],        # Remove \n",
    "                                   dp[i-1][j-1])# Replace\n",
    "    \n",
    "    \n",
    "    \n",
    "    i = m \n",
    "    j = n \n",
    "    lst = []\n",
    "    while (i != 0 and j != 0):\n",
    "\n",
    "        if (str1[i-1] == str2[j - 1]):\n",
    "            i = i-1\n",
    "            j = j-1\n",
    "\n",
    "\n",
    "\n",
    "        elif (dp[i][j] == (dp[i - 1][j - 1] + 1)):  \n",
    "            temp = ['replace',i-1,j-1] \n",
    "            lst.append(temp)\n",
    "            i = i-1 \n",
    "            j = j-1 \n",
    "\n",
    "\n",
    "\n",
    "        elif (dp[i][j] == (dp[i - 1][j] + 1)): \n",
    "            temp = ['delete',i-1,j]\n",
    "            lst.append(temp)\n",
    "            i=i-1\n",
    "\n",
    "\n",
    "\n",
    "        elif (dp[i][j] == (dp[i][j - 1] + 1)):\n",
    "            temp = ['insert',i,j-1]\n",
    "            lst.append(temp)\n",
    "            j=j-1\n",
    "            \n",
    "    if(m > n):\n",
    "        while(i>0):\n",
    "            temp = ['delete',i-1,j]\n",
    "            lst.append(temp)\n",
    "            i=i-1\n",
    "            \n",
    "    if(n > m):\n",
    "        while(j>0):\n",
    "            temp = ['insert',i,j-1]\n",
    "            lst.append(temp)\n",
    "            j=j-1\n",
    "        \n",
    "        \n",
    "  \n",
    "    return dp,lst"
   ]
  },
  {
   "cell_type": "code",
   "execution_count": 11,
   "metadata": {},
   "outputs": [
    {
     "name": "stdout",
     "output_type": "stream",
     "text": [
      "[['replace', 3, 3], ['replace', 2, 2], ['replace', 1, 1], ['replace', 0, 0]]\n"
     ]
    }
   ],
   "source": [
    "s = [2,4,7,8]\n",
    "d = [6,14,33,22]\n",
    "\n",
    "dp,lst = editDistDP(s,d,len(s),len(d))\n",
    "\n",
    "print lst"
   ]
  },
  {
   "cell_type": "code",
   "execution_count": null,
   "metadata": {},
   "outputs": [],
   "source": []
  }
 ],
 "metadata": {
  "kernelspec": {
   "display_name": "Python 2",
   "language": "python",
   "name": "python2"
  },
  "language_info": {
   "codemirror_mode": {
    "name": "ipython",
    "version": 2
   },
   "file_extension": ".py",
   "mimetype": "text/x-python",
   "name": "python",
   "nbconvert_exporter": "python",
   "pygments_lexer": "ipython2",
   "version": "2.7.17"
  }
 },
 "nbformat": 4,
 "nbformat_minor": 2
}
